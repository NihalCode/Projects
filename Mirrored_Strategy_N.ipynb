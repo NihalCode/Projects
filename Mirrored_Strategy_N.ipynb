{
 "cells": [
  {
   "cell_type": "code",
   "execution_count": 2,
   "id": "344270a8",
   "metadata": {},
   "outputs": [],
   "source": [
    "import tensorflow as tf\n",
    "import numpy as np \n",
    "import matplotlib.pyplot as plt\n",
    "from tensorflow.keras.layers import Input, Conv2D, Dense, Flatten, Dropout, GlobalMaxPooling2D,MaxPooling2D, BatchNormalization\n",
    "from tensorflow.keras.models import Model "
   ]
  },
  {
   "cell_type": "code",
   "execution_count": 3,
   "id": "182f4e73",
   "metadata": {},
   "outputs": [
    {
     "name": "stdout",
     "output_type": "stream",
     "text": [
      "(50000, 32, 32, 3)\n",
      "(50000,)\n"
     ]
    }
   ],
   "source": [
    "cifar10 = tf.keras.datasets.cifar10\n",
    "(x_train, y_train), (x_test, y_test) = cifar10.load_data()\n",
    "x_train, x_test = x_train/255.0, x_test/255.0\n",
    "y_train, y_test = y_train.flatten(), y_test.flatten()\n",
    "print(x_train.shape)\n",
    "print(y_train.shape)"
   ]
  },
  {
   "cell_type": "code",
   "execution_count": 4,
   "id": "226a760b",
   "metadata": {},
   "outputs": [
    {
     "name": "stdout",
     "output_type": "stream",
     "text": [
      "number of classes 10\n"
     ]
    }
   ],
   "source": [
    "K = len(set(y_train))\n",
    "print(\"number of classes\", K)"
   ]
  },
  {
   "cell_type": "code",
   "execution_count": 5,
   "id": "1745cb36",
   "metadata": {},
   "outputs": [
    {
     "name": "stdout",
     "output_type": "stream",
     "text": [
      "INFO:tensorflow:Using MirroredStrategy with devices ('/job:localhost/replica:0/task:0/device:CPU:0',)\n"
     ]
    }
   ],
   "source": [
    "strategy = tf.distribute.MirroredStrategy()\n"
   ]
  },
  {
   "cell_type": "code",
   "execution_count": 6,
   "id": "b7aedfd6",
   "metadata": {},
   "outputs": [
    {
     "name": "stdout",
     "output_type": "stream",
     "text": [
      "Number of Devices: 1\n"
     ]
    }
   ],
   "source": [
    "print(f'Number of Devices: {strategy.num_replicas_in_sync}')\n"
   ]
  },
  {
   "cell_type": "code",
   "execution_count": 7,
   "id": "119d2425",
   "metadata": {},
   "outputs": [],
   "source": [
    "def create_model():\n",
    "    i = Input(shape=x_train[0].shape)\n",
    "    x = Conv2D(32, (3, 3), strides=2, activation='relu')(i)\n",
    "    x = Conv2D(64, (3, 3), strides=2, activation='relu')(x)\n",
    "    x = Conv2D(128, (3, 3), strides=2, activation='relu')(x)\n",
    "    x = Flatten()(x)\n",
    "    x = Dropout(0.5)(x)\n",
    "    x = Dense(1024, activation='relu')(x)\n",
    "    x = Dropout(0.2)(x)\n",
    "    x = Dense(K, activation='softmax')(x)\n",
    "    \n",
    "    model = Model(i, x)\n",
    "    # Your model creation code here\n",
    "    return model"
   ]
  },
  {
   "cell_type": "code",
   "execution_count": 8,
   "id": "b592541d",
   "metadata": {},
   "outputs": [
    {
     "name": "stdout",
     "output_type": "stream",
     "text": [
      "INFO:tensorflow:Using MirroredStrategy with devices ('/job:localhost/replica:0/task:0/device:CPU:0',)\n"
     ]
    }
   ],
   "source": [
    "strategy = tf.distribute.MirroredStrategy()\n",
    "\n",
    "with strategy.scope():\n",
    "  # Create your model using `create_model()` function\n",
    "  model = create_model()\n",
    "\n",
    "  # Compile the model\n",
    "  model.compile(optimizer='adam', loss='sparse_categorical_crossentropy', metrics=['accuracy'])\n"
   ]
  },
  {
   "cell_type": "code",
   "execution_count": 9,
   "id": "cd848a50",
   "metadata": {},
   "outputs": [
    {
     "name": "stdout",
     "output_type": "stream",
     "text": [
      "WARNING:tensorflow:From C:\\Users\\nihal\\anaconda3\\Lib\\site-packages\\keras\\src\\backend\\tensorflow\\core.py:204: The name tf.placeholder is deprecated. Please use tf.compat.v1.placeholder instead.\n",
      "\n",
      "Epoch 1/15\n",
      "\u001b[1m391/391\u001b[0m \u001b[32m━━━━━━━━━━━━━━━━━━━━\u001b[0m\u001b[37m\u001b[0m \u001b[1m5s\u001b[0m 10ms/step - accuracy: 0.3095 - loss: 1.8663 - val_accuracy: 0.5163 - val_loss: 1.3450\n",
      "Epoch 2/15\n",
      "\u001b[1m391/391\u001b[0m \u001b[32m━━━━━━━━━━━━━━━━━━━━\u001b[0m\u001b[37m\u001b[0m \u001b[1m4s\u001b[0m 10ms/step - accuracy: 0.5002 - loss: 1.3797 - val_accuracy: 0.5693 - val_loss: 1.2025\n",
      "Epoch 3/15\n",
      "\u001b[1m391/391\u001b[0m \u001b[32m━━━━━━━━━━━━━━━━━━━━\u001b[0m\u001b[37m\u001b[0m \u001b[1m4s\u001b[0m 10ms/step - accuracy: 0.5583 - loss: 1.2276 - val_accuracy: 0.5916 - val_loss: 1.1262\n",
      "Epoch 4/15\n",
      "\u001b[1m391/391\u001b[0m \u001b[32m━━━━━━━━━━━━━━━━━━━━\u001b[0m\u001b[37m\u001b[0m \u001b[1m4s\u001b[0m 10ms/step - accuracy: 0.5987 - loss: 1.1277 - val_accuracy: 0.6305 - val_loss: 1.0497\n",
      "Epoch 5/15\n",
      "\u001b[1m391/391\u001b[0m \u001b[32m━━━━━━━━━━━━━━━━━━━━\u001b[0m\u001b[37m\u001b[0m \u001b[1m4s\u001b[0m 10ms/step - accuracy: 0.6248 - loss: 1.0503 - val_accuracy: 0.6535 - val_loss: 0.9719\n",
      "Epoch 6/15\n",
      "\u001b[1m391/391\u001b[0m \u001b[32m━━━━━━━━━━━━━━━━━━━━\u001b[0m\u001b[37m\u001b[0m \u001b[1m4s\u001b[0m 10ms/step - accuracy: 0.6529 - loss: 0.9746 - val_accuracy: 0.6733 - val_loss: 0.9245\n",
      "Epoch 7/15\n",
      "\u001b[1m391/391\u001b[0m \u001b[32m━━━━━━━━━━━━━━━━━━━━\u001b[0m\u001b[37m\u001b[0m \u001b[1m4s\u001b[0m 10ms/step - accuracy: 0.6733 - loss: 0.9172 - val_accuracy: 0.6815 - val_loss: 0.9050\n",
      "Epoch 8/15\n",
      "\u001b[1m391/391\u001b[0m \u001b[32m━━━━━━━━━━━━━━━━━━━━\u001b[0m\u001b[37m\u001b[0m \u001b[1m4s\u001b[0m 10ms/step - accuracy: 0.6937 - loss: 0.8603 - val_accuracy: 0.6946 - val_loss: 0.8669\n",
      "Epoch 9/15\n",
      "\u001b[1m391/391\u001b[0m \u001b[32m━━━━━━━━━━━━━━━━━━━━\u001b[0m\u001b[37m\u001b[0m \u001b[1m4s\u001b[0m 10ms/step - accuracy: 0.7095 - loss: 0.8158 - val_accuracy: 0.6995 - val_loss: 0.8605\n",
      "Epoch 10/15\n",
      "\u001b[1m391/391\u001b[0m \u001b[32m━━━━━━━━━━━━━━━━━━━━\u001b[0m\u001b[37m\u001b[0m \u001b[1m4s\u001b[0m 11ms/step - accuracy: 0.7264 - loss: 0.7702 - val_accuracy: 0.7183 - val_loss: 0.8076\n",
      "Epoch 11/15\n",
      "\u001b[1m391/391\u001b[0m \u001b[32m━━━━━━━━━━━━━━━━━━━━\u001b[0m\u001b[37m\u001b[0m \u001b[1m4s\u001b[0m 10ms/step - accuracy: 0.7379 - loss: 0.7291 - val_accuracy: 0.7200 - val_loss: 0.8034\n",
      "Epoch 12/15\n",
      "\u001b[1m391/391\u001b[0m \u001b[32m━━━━━━━━━━━━━━━━━━━━\u001b[0m\u001b[37m\u001b[0m \u001b[1m4s\u001b[0m 11ms/step - accuracy: 0.7574 - loss: 0.6954 - val_accuracy: 0.7229 - val_loss: 0.7882\n",
      "Epoch 13/15\n",
      "\u001b[1m391/391\u001b[0m \u001b[32m━━━━━━━━━━━━━━━━━━━━\u001b[0m\u001b[37m\u001b[0m \u001b[1m4s\u001b[0m 10ms/step - accuracy: 0.7652 - loss: 0.6665 - val_accuracy: 0.7256 - val_loss: 0.7785\n",
      "Epoch 14/15\n",
      "\u001b[1m391/391\u001b[0m \u001b[32m━━━━━━━━━━━━━━━━━━━━\u001b[0m\u001b[37m\u001b[0m \u001b[1m4s\u001b[0m 10ms/step - accuracy: 0.7713 - loss: 0.6392 - val_accuracy: 0.7348 - val_loss: 0.7647\n",
      "Epoch 15/15\n",
      "\u001b[1m391/391\u001b[0m \u001b[32m━━━━━━━━━━━━━━━━━━━━\u001b[0m\u001b[37m\u001b[0m \u001b[1m4s\u001b[0m 10ms/step - accuracy: 0.7792 - loss: 0.6177 - val_accuracy: 0.7362 - val_loss: 0.7637\n"
     ]
    }
   ],
   "source": [
    "  r = model.fit(x_train, y_train, validation_data=(x_test, y_test),batch_size =128, epochs=15)"
   ]
  },
  {
   "cell_type": "code",
   "execution_count": 10,
   "id": "9a086640",
   "metadata": {},
   "outputs": [],
   "source": [
    "model2 = create_model()"
   ]
  },
  {
   "cell_type": "code",
   "execution_count": 11,
   "id": "0ed5b412",
   "metadata": {},
   "outputs": [
    {
     "name": "stdout",
     "output_type": "stream",
     "text": [
      "Epoch 1/5\n",
      "\u001b[1m391/391\u001b[0m \u001b[32m━━━━━━━━━━━━━━━━━━━━\u001b[0m\u001b[37m\u001b[0m \u001b[1m5s\u001b[0m 10ms/step - accuracy: 0.3255 - loss: 1.8385 - val_accuracy: 0.5226 - val_loss: 1.3359\n",
      "Epoch 2/5\n",
      "\u001b[1m391/391\u001b[0m \u001b[32m━━━━━━━━━━━━━━━━━━━━\u001b[0m\u001b[37m\u001b[0m \u001b[1m4s\u001b[0m 10ms/step - accuracy: 0.5141 - loss: 1.3619 - val_accuracy: 0.5743 - val_loss: 1.1969\n",
      "Epoch 3/5\n",
      "\u001b[1m391/391\u001b[0m \u001b[32m━━━━━━━━━━━━━━━━━━━━\u001b[0m\u001b[37m\u001b[0m \u001b[1m4s\u001b[0m 9ms/step - accuracy: 0.5656 - loss: 1.2168 - val_accuracy: 0.6013 - val_loss: 1.1119\n",
      "Epoch 4/5\n",
      "\u001b[1m391/391\u001b[0m \u001b[32m━━━━━━━━━━━━━━━━━━━━\u001b[0m\u001b[37m\u001b[0m \u001b[1m4s\u001b[0m 9ms/step - accuracy: 0.6067 - loss: 1.1066 - val_accuracy: 0.6335 - val_loss: 1.0264\n",
      "Epoch 5/5\n",
      "\u001b[1m391/391\u001b[0m \u001b[32m━━━━━━━━━━━━━━━━━━━━\u001b[0m\u001b[37m\u001b[0m \u001b[1m4s\u001b[0m 9ms/step - accuracy: 0.6312 - loss: 1.0254 - val_accuracy: 0.6622 - val_loss: 0.9613\n"
     ]
    }
   ],
   "source": [
    "model2.compile(optimizer='adam',\n",
    "             loss ='sparse_categorical_crossentropy',\n",
    "             metrics =['accuracy'])\n",
    "\n",
    "r = model2.fit(x_train, y_train, validation_data =(x_test, y_test),batch_size=128, epochs =5)"
   ]
  },
  {
   "cell_type": "code",
   "execution_count": null,
   "id": "b9531e7d",
   "metadata": {},
   "outputs": [],
   "source": []
  }
 ],
 "metadata": {
  "kernelspec": {
   "display_name": "Python 3 (ipykernel)",
   "language": "python",
   "name": "python3"
  },
  "language_info": {
   "codemirror_mode": {
    "name": "ipython",
    "version": 3
   },
   "file_extension": ".py",
   "mimetype": "text/x-python",
   "name": "python",
   "nbconvert_exporter": "python",
   "pygments_lexer": "ipython3",
   "version": "3.11.5"
  }
 },
 "nbformat": 4,
 "nbformat_minor": 5
}
